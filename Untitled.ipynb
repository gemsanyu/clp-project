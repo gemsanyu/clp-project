{
 "cells": [
  {
   "cell_type": "code",
   "execution_count": 4,
   "id": "ba4a6291",
   "metadata": {},
   "outputs": [
    {
     "name": "stdout",
     "output_type": "stream",
     "text": [
      "[[4 3]\n",
      " [6 2]]\n"
     ]
    }
   ],
   "source": [
    "import numpy as np\n",
    "from heuristic.utils import compute_collision_2d\n",
    "\n",
    "\n",
    "pos1 = np.asanyarray([[0,0],[1,1]])\n",
    "dim1 = np.asanyarray([[4,3],[6,2]])\n",
    "pos2 = np.asanyarray([[2,1],[1,0]])\n",
    "dim2 = np.asanyarray([[3,4],[1,4]])\n",
    "\n",
    "area = compute_collision_2d(pos1,dim1,pos2,dim2)\n",
    "print(area)"
   ]
  },
  {
   "cell_type": "code",
   "execution_count": 1,
   "id": "b18b0cc6",
   "metadata": {},
   "outputs": [
    {
     "name": "stdout",
     "output_type": "stream",
     "text": [
      "[[ True]]\n"
     ]
    }
   ],
   "source": [
    "import numpy as np\n",
    "from heuristic.utils import is_collide_3d\n",
    "pos1 = np.asanyarray([[0,0,0]])\n",
    "dim1 = np.asanyarray([[3,3,3]])\n",
    "pos2 = np.asanyarray([[0,0,0]])\n",
    "dim2 = np.asanyarray([[1,1,1]])\n",
    "is_collide_matrix = is_collide_3d(pos1,dim1,pos2,dim2)\n",
    "print(is_collide_matrix)"
   ]
  },
  {
   "cell_type": "code",
   "execution_count": 2,
   "id": "169361c9",
   "metadata": {},
   "outputs": [
    {
     "name": "stdout",
     "output_type": "stream",
     "text": [
      "[11 16 12 17 13 18]\n",
      "[[11 16]\n",
      " [12 17]\n",
      " [13 18]]\n"
     ]
    }
   ],
   "source": [
    "A = np.asanyarray([1,1,2,2,3,3])\n",
    "B = np.asanyarray([10,15,10,15,10,15])\n",
    "C = A+B\n",
    "print(C)\n",
    "C = C.reshape(3,2)\n",
    "print(C)\n"
   ]
  },
  {
   "cell_type": "code",
   "execution_count": 5,
   "id": "fe7d4e08",
   "metadata": {},
   "outputs": [
    {
     "name": "stdout",
     "output_type": "stream",
     "text": [
      "[0 1 2]\n"
     ]
    }
   ],
   "source": [
    "A = np.asanyarray([10,10,10])\n",
    "z = np.asanyarray([0,0,0,1,1,2])\n",
    "v = np.asanyarray([1,2,3,4,5,6])\n",
    "c = np.unique(z)\n",
    "print(c)\n",
    "# print(A)\n",
    "# A[z] -= 1\n",
    "# print(A)"
   ]
  }
 ],
 "metadata": {
  "kernelspec": {
   "display_name": "Python 3 (ipykernel)",
   "language": "python",
   "name": "python3"
  },
  "language_info": {
   "codemirror_mode": {
    "name": "ipython",
    "version": 3
   },
   "file_extension": ".py",
   "mimetype": "text/x-python",
   "name": "python",
   "nbconvert_exporter": "python",
   "pygments_lexer": "ipython3",
   "version": "3.8.16"
  }
 },
 "nbformat": 4,
 "nbformat_minor": 5
}
