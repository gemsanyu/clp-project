{
 "cells": [
  {
   "cell_type": "code",
   "execution_count": 7,
   "id": "1b17d7c4",
   "metadata": {},
   "outputs": [],
   "source": [
    "import random\n",
    "import json\n",
    "\n",
    "# read items and combine into types \n",
    "with open(\"raw.csv\", \"r\") as f:\n",
    "        lines = f.readlines()\n",
    "        item_type_dict = {}\n",
    "        for line in lines[1:]:\n",
    "            values = line.split()\n",
    "            d_item = {\n",
    "                \"length\":float(values[1]),\n",
    "                \"width\":float(values[2]),\n",
    "                \"height\":float(values[3]),\n",
    "                \"cost\":float(values[4]),\n",
    "                \"weight\":float(values[5]),\n",
    "                \"num\":1\n",
    "            }\n",
    "            item_key = values[1]+\"-\"+values[2]+\"-\"+values[3]+\"-\"+values[4]+\"-\"+values[5]\n",
    "            if item_key in item_type_dict:\n",
    "                item_type_dict[item_key][\"num\"] += 1\n",
    "            else:\n",
    "                item_type_dict[item_key] = d_item"
   ]
  },
  {
   "cell_type": "code",
   "execution_count": 18,
   "id": "98262cdc",
   "metadata": {},
   "outputs": [
    {
     "name": "stdout",
     "output_type": "stream",
     "text": [
      "175\n"
     ]
    }
   ],
   "source": [
    "container_types_list = [\n",
    "        {\n",
    "            \"length\":12,\n",
    "            \"width\":3,\n",
    "            \"height\":4,\n",
    "            \"cost\":500,\n",
    "            \"psi_x\":0.9,\n",
    "            \"psi_y\":0.9,\n",
    "            \"max_weight\":26300,\n",
    "            \"num\":3\n",
    "        },\n",
    "    ]\n",
    "cargo_types_list = [item_type for item_type in item_type_dict.values()]\n",
    "num_items = 0\n",
    "for item_type in item_type_dict.values():\n",
    "    num_items += item_type[\"num\"]\n",
    "print(num_items)"
   ]
  },
  {
   "cell_type": "code",
   "execution_count": 16,
   "id": "6f232097",
   "metadata": {},
   "outputs": [],
   "source": [
    "d = {}\n",
    "d[\"container_types\"] = container_types_list\n",
    "d[\"cargo_types\"] = cargo_types_list\n",
    "instance_name=\"wahyu-175.json\"\n",
    "with open(instance_name, \"w\") as json_file:\n",
    "    json.dump(d, json_file, indent=5)"
   ]
  }
 ],
 "metadata": {
  "kernelspec": {
   "display_name": "Python 3 (ipykernel)",
   "language": "python",
   "name": "python3"
  },
  "language_info": {
   "codemirror_mode": {
    "name": "ipython",
    "version": 3
   },
   "file_extension": ".py",
   "mimetype": "text/x-python",
   "name": "python",
   "nbconvert_exporter": "python",
   "pygments_lexer": "ipython3",
   "version": "3.8.18"
  }
 },
 "nbformat": 4,
 "nbformat_minor": 5
}
